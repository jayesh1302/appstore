{
 "cells": [
  {
   "cell_type": "markdown",
   "metadata": {},
   "source": [
    "# Analysing Google Play Store Data and Apple Play store Data"
   ]
  },
  {
   "cell_type": "markdown",
   "metadata": {},
   "source": [
    "The aim of this project is to filter out data from Google Play store and Apple iOS store, to extract information useful for making a free app and analyze what kind of apps are more preferred by users, have higher ratings, generate more revenue through in-app advertising etc. "
   ]
  },
  {
   "cell_type": "markdown",
   "metadata": {},
   "source": [
    "#### Google Play store data: https://www.kaggle.com/lava18/google-play-store-app\n",
    "#### Apple iOS store data: https://www.kaggle.com/ramamet4/app-store-apple-data-set-10k-apps/home\n"
   ]
  },
  {
   "cell_type": "code",
   "execution_count": 2,
   "metadata": {
    "collapsed": true
   },
   "outputs": [],
   "source": [
    "from csv import reader\n",
    "\n",
    "### The Google Play data set ###\n",
    "opened_file = open('E:\\Kaggle Datasets\\Google Play\\googleplaystore.csv')\n",
    "read_file = reader(opened_file)\n",
    "android = list(read_file)\n",
    "android_header = android[0]\n",
    "android = android[1:]\n",
    "\n",
    "### The App Store data set ###\n",
    "opened_file = open('E:\\Kaggle Datasets\\Google Play\\AppleStore.csv')\n",
    "read_file = reader(opened_file)\n",
    "ios = list(read_file)\n",
    "ios_header = ios[0]\n",
    "ios = ios[1:]"
   ]
  },
  {
   "cell_type": "markdown",
   "metadata": {},
   "source": [
    "The following function is used to print any dataset i.e print the sliced dataset and also display the number or rows and columns if the user wants"
   ]
  },
  {
   "cell_type": "code",
   "execution_count": 3,
   "metadata": {
    "collapsed": true
   },
   "outputs": [],
   "source": [
    "def explore_data(dataset, start, end, rows_and_columns=False):\n",
    "    dataset_slice= dataset[start:end]\n",
    "    for row in dataset_slice:\n",
    "        print(row)\n",
    "        print('\\n') \n",
    "    if rows_and_columns:\n",
    "        print('Number of rows:',len(dataset))\n",
    "        print('Number of columns:',len(dataset[0]))"
   ]
  },
  {
   "cell_type": "code",
   "execution_count": 4,
   "metadata": {},
   "outputs": [
    {
     "name": "stdout",
     "output_type": "stream",
     "text": [
      "['1', '281656475', 'PAC-MAN Premium', '100788224', 'USD', '3.99', '21292', '26', '4', '4.5', '6.3.5', '4+', 'Games', '38', '5', '10', '1']\n",
      "\n",
      "\n",
      "['2', '281796108', 'Evernote - stay organized', '158578688', 'USD', '0', '161065', '26', '4', '3.5', '8.2.2', '4+', 'Productivity', '37', '5', '23', '1']\n",
      "\n",
      "\n",
      "['3', '281940292', 'WeatherBug - Local Weather, Radar, Maps, Alerts', '100524032', 'USD', '0', '188583', '2822', '3.5', '4.5', '5.0.0', '4+', 'Weather', '37', '5', '3', '1']\n",
      "\n",
      "\n",
      "['4', '282614216', 'eBay: Best App to Buy, Sell, Save! Online Shopping', '128512000', 'USD', '0', '262241', '649', '4', '4.5', '5.10.0', '12+', 'Shopping', '37', '5', '9', '1']\n",
      "\n",
      "\n",
      "['5', '282935706', 'Bible', '92774400', 'USD', '0', '985920', '5320', '4.5', '5', '7.5.1', '4+', 'Reference', '37', '5', '45', '1']\n",
      "\n",
      "\n"
     ]
    }
   ],
   "source": [
    "explore_data(ios,0,5)"
   ]
  },
  {
   "cell_type": "code",
   "execution_count": 5,
   "metadata": {
    "scrolled": true
   },
   "outputs": [
    {
     "name": "stdout",
     "output_type": "stream",
     "text": [
      "['1', '281656475', 'PAC-MAN Premium', '100788224', 'USD', '3.99', '21292', '26', '4', '4.5', '6.3.5', '4+', 'Games', '38', '5', '10', '1']\n",
      "\n",
      "\n",
      "['2', '281796108', 'Evernote - stay organized', '158578688', 'USD', '0', '161065', '26', '4', '3.5', '8.2.2', '4+', 'Productivity', '37', '5', '23', '1']\n",
      "\n",
      "\n",
      "['3', '281940292', 'WeatherBug - Local Weather, Radar, Maps, Alerts', '100524032', 'USD', '0', '188583', '2822', '3.5', '4.5', '5.0.0', '4+', 'Weather', '37', '5', '3', '1']\n",
      "\n",
      "\n",
      "['4', '282614216', 'eBay: Best App to Buy, Sell, Save! Online Shopping', '128512000', 'USD', '0', '262241', '649', '4', '4.5', '5.10.0', '12+', 'Shopping', '37', '5', '9', '1']\n",
      "\n",
      "\n",
      "['5', '282935706', 'Bible', '92774400', 'USD', '0', '985920', '5320', '4.5', '5', '7.5.1', '4+', 'Reference', '37', '5', '45', '1']\n",
      "\n",
      "\n",
      "('Number of rows:', 7197)\n",
      "('Number of columns:', 17)\n"
     ]
    }
   ],
   "source": [
    "explore_data(ios,0,5,True)"
   ]
  },
  {
   "cell_type": "markdown",
   "metadata": {},
   "source": [
    "### Data Cleaning"
   ]
  },
  {
   "cell_type": "markdown",
   "metadata": {},
   "source": [
    "#### 1) Corrupt Data\n",
    "We observe that in our Google Play store dataset some of the data is corrupt. For example data entry 10472 has Category as 1.9. Which is not a string. Further we need to clean this data for removing such corrupt data"
   ]
  },
  {
   "cell_type": "code",
   "execution_count": 6,
   "metadata": {},
   "outputs": [
    {
     "name": "stdout",
     "output_type": "stream",
     "text": [
      "['Life Made WI-Fi Touchscreen Photo Frame', '1.9', '19', '3.0M', '1,000+', 'Free', '0', 'Everyone', '', 'February 11, 2018', '1.0.19', '4.0 and up']\n",
      "\n",
      "\n",
      "['App', 'Category', 'Rating', 'Reviews', 'Size', 'Installs', 'Type', 'Price', 'Content Rating', 'Genres', 'Last Updated', 'Current Ver', 'Android Ver']\n",
      "\n",
      "\n",
      "['Photo Editor & Candy Camera & Grid & ScrapBook', 'ART_AND_DESIGN', '4.1', '159', '19M', '10,000+', 'Free', '0', 'Everyone', 'Art & Design', 'January 7, 2018', '1.0.0', '4.0.3 and up']\n"
     ]
    }
   ],
   "source": [
    "print(android[10472])  \n",
    "print('\\n')\n",
    "print(android_header)  \n",
    "print('\\n')\n",
    "print(android[0])  "
   ]
  },
  {
   "cell_type": "code",
   "execution_count": 7,
   "metadata": {},
   "outputs": [
    {
     "name": "stdout",
     "output_type": "stream",
     "text": [
      "10841\n",
      "10840\n"
     ]
    }
   ],
   "source": [
    "\n",
    "print(len(android))\n",
    "del android[10472]  # don't run this more than once\n",
    "print(len(android))"
   ]
  },
  {
   "cell_type": "markdown",
   "metadata": {},
   "source": [
    "#### 2) Redundant Data\n",
    "We observe that some of the data is redundant. The example is given below. We keep the data with the maximum number of reviews and delete the rest."
   ]
  },
  {
   "cell_type": "code",
   "execution_count": 8,
   "metadata": {},
   "outputs": [
    {
     "name": "stdout",
     "output_type": "stream",
     "text": [
      "['Instagram', 'SOCIAL', '4.5', '66577313', 'Varies with device', '1,000,000,000+', 'Free', '0', 'Teen', 'Social', 'July 31, 2018', 'Varies with device', 'Varies with device']\n",
      "['Instagram', 'SOCIAL', '4.5', '66577446', 'Varies with device', '1,000,000,000+', 'Free', '0', 'Teen', 'Social', 'July 31, 2018', 'Varies with device', 'Varies with device']\n",
      "['Instagram', 'SOCIAL', '4.5', '66577313', 'Varies with device', '1,000,000,000+', 'Free', '0', 'Teen', 'Social', 'July 31, 2018', 'Varies with device', 'Varies with device']\n",
      "['Instagram', 'SOCIAL', '4.5', '66509917', 'Varies with device', '1,000,000,000+', 'Free', '0', 'Teen', 'Social', 'July 31, 2018', 'Varies with device', 'Varies with device']\n"
     ]
    }
   ],
   "source": [
    "for app in android:\n",
    "    name= app[0]\n",
    "    if name == 'Instagram':\n",
    "        print(app)"
   ]
  },
  {
   "cell_type": "markdown",
   "metadata": {},
   "source": [
    " We are removing duplicate rows. The criterion used here is that the apps with the most number of reviews are kept and the others are removed as the ones with more reviews would be the latest entries"
   ]
  },
  {
   "cell_type": "code",
   "execution_count": 9,
   "metadata": {},
   "outputs": [
    {
     "name": "stdout",
     "output_type": "stream",
     "text": [
      "('Number of duplicate apps', 1181)\n",
      "\n",
      "\n",
      "('Fifteen examples of duplicate apps', ['Quick PDF Scanner + OCR FREE', 'Box', 'Google My Business', 'ZOOM Cloud Meetings', 'join.me - Simple Meetings', 'Box', 'Zenefits', 'Google Ads', 'Google My Business', 'Slack', 'FreshBooks Classic', 'Insightly CRM', 'QuickBooks Accounting: Invoicing & Expenses', 'HipChat - Chat Built for Teams', 'Xero Accounting Software'])\n"
     ]
    }
   ],
   "source": [
    "duplicate_apps =[]\n",
    "unique_apps =[]\n",
    "\n",
    "for app in android:\n",
    "    name=app[0]\n",
    "    if name in unique_apps:\n",
    "        duplicate_apps.append(name)\n",
    "    else:\n",
    "        unique_apps.append(name)\n",
    "        \n",
    "print('Number of duplicate apps', len(duplicate_apps))\n",
    "print('\\n')\n",
    "print('Fifteen examples of duplicate apps', duplicate_apps[:15])\n"
   ]
  },
  {
   "cell_type": "code",
   "execution_count": 10,
   "metadata": {},
   "outputs": [
    {
     "name": "stdout",
     "output_type": "stream",
     "text": [
      "('Expected length', 9659)\n"
     ]
    }
   ],
   "source": [
    "print('Expected length', len(android)-1181)"
   ]
  },
  {
   "cell_type": "markdown",
   "metadata": {},
   "source": [
    "#### We are removing duplicate rows and keeping the apps with maximum reviews"
   ]
  },
  {
   "cell_type": "code",
   "execution_count": 11,
   "metadata": {
    "collapsed": true
   },
   "outputs": [],
   "source": [
    "reviews_max = {}\n",
    "\n",
    "for app in android:\n",
    "    name=app[0]\n",
    "    n_reviews= float(app[3])\n",
    "    \n",
    "    if name in reviews_max and reviews_max[name] < n_reviews:\n",
    "         reviews_max[name] = n_reviews\n",
    "            \n",
    "    elif name not in reviews_max:\n",
    "        reviews_max[name] = n_reviews\n",
    "        "
   ]
  },
  {
   "cell_type": "code",
   "execution_count": 12,
   "metadata": {},
   "outputs": [
    {
     "name": "stdout",
     "output_type": "stream",
     "text": [
      "('Expected length:', 9659)\n",
      "('Actual length:', 9659)\n"
     ]
    }
   ],
   "source": [
    "print('Expected length:', len(android) - 1181)\n",
    "print('Actual length:', len(reviews_max))"
   ]
  },
  {
   "cell_type": "markdown",
   "metadata": {},
   "source": [
    "#### We are cleaning the data and segregating the clean data and the data already added"
   ]
  },
  {
   "cell_type": "code",
   "execution_count": 13,
   "metadata": {
    "collapsed": true
   },
   "outputs": [],
   "source": [
    "android_clean = []\n",
    "already_added = []\n",
    "\n",
    "for app in android:\n",
    "    name = app[0]\n",
    "    n_reviews = float(app[3])\n",
    "    if (n_reviews == reviews_max[name]) and (name not in already_added):\n",
    "        android_clean.append(app)\n",
    "        already_added.append(name)"
   ]
  },
  {
   "cell_type": "code",
   "execution_count": 14,
   "metadata": {},
   "outputs": [
    {
     "name": "stdout",
     "output_type": "stream",
     "text": [
      "['Photo Editor & Candy Camera & Grid & ScrapBook', 'ART_AND_DESIGN', '4.1', '159', '19M', '10,000+', 'Free', '0', 'Everyone', 'Art & Design', 'January 7, 2018', '1.0.0', '4.0.3 and up']\n",
      "\n",
      "\n",
      "['U Launcher Lite \\xe2\\x80\\x93 FREE Live Cool Themes, Hide Apps', 'ART_AND_DESIGN', '4.7', '87510', '8.7M', '5,000,000+', 'Free', '0', 'Everyone', 'Art & Design', 'August 1, 2018', '1.2.4', '4.0.3 and up']\n",
      "\n",
      "\n",
      "['Sketch - Draw & Paint', 'ART_AND_DESIGN', '4.5', '215644', '25M', '50,000,000+', 'Free', '0', 'Teen', 'Art & Design', 'June 8, 2018', 'Varies with device', '4.2 and up']\n",
      "\n",
      "\n",
      "('Number of rows:', 9659)\n",
      "('Number of columns:', 13)\n"
     ]
    }
   ],
   "source": [
    "explore_data(android_clean, 0, 3, True)"
   ]
  },
  {
   "cell_type": "markdown",
   "metadata": {},
   "source": [
    "#### 3) Non-essential Data\n",
    "We remove the Non-English Apps because our aim is to develop a free app in English language"
   ]
  },
  {
   "cell_type": "code",
   "execution_count": 20,
   "metadata": {},
   "outputs": [
    {
     "name": "stdout",
     "output_type": "stream",
     "text": [
      "True\n",
      "False\n"
     ]
    }
   ],
   "source": [
    "def is_english(string):\n",
    "    non_ascii = 0\n",
    "    \n",
    "    for character in string:\n",
    "        if ord(character) > 127:\n",
    "            non_ascii += 1\n",
    "    \n",
    "    if non_ascii > 3:\n",
    "        return False\n",
    "    else:\n",
    "        return True\n",
    "\n",
    "print(is_english('Docs To Go™ Free Office Suite'))\n",
    "print(is_english('Instachat 😜'))"
   ]
  },
  {
   "cell_type": "code",
   "execution_count": 23,
   "metadata": {},
   "outputs": [
    {
     "data": {
      "text/plain": [
       "False"
      ]
     },
     "execution_count": 23,
     "metadata": {},
     "output_type": "execute_result"
    }
   ],
   "source": [
    "is_english('Instachat 😜')"
   ]
  },
  {
   "cell_type": "code",
   "execution_count": 24,
   "metadata": {},
   "outputs": [
    {
     "name": "stdout",
     "output_type": "stream",
     "text": [
      "['Photo Editor & Candy Camera & Grid & ScrapBook', 'ART_AND_DESIGN', '4.1', '159', '19M', '10,000+', 'Free', '0', 'Everyone', 'Art & Design', 'January 7, 2018', '1.0.0', '4.0.3 and up']\n",
      "\n",
      "\n",
      "['U Launcher Lite \\xe2\\x80\\x93 FREE Live Cool Themes, Hide Apps', 'ART_AND_DESIGN', '4.7', '87510', '8.7M', '5,000,000+', 'Free', '0', 'Everyone', 'Art & Design', 'August 1, 2018', '1.2.4', '4.0.3 and up']\n",
      "\n",
      "\n",
      "['Sketch - Draw & Paint', 'ART_AND_DESIGN', '4.5', '215644', '25M', '50,000,000+', 'Free', '0', 'Teen', 'Art & Design', 'June 8, 2018', 'Varies with device', '4.2 and up']\n",
      "\n",
      "\n",
      "('Number of rows:', 9500)\n",
      "('Number of columns:', 13)\n",
      "\n",
      "\n",
      "['1', '281656475', 'PAC-MAN Premium', '100788224', 'USD', '3.99', '21292', '26', '4', '4.5', '6.3.5', '4+', 'Games', '38', '5', '10', '1']\n",
      "\n",
      "\n",
      "['2', '281796108', 'Evernote - stay organized', '158578688', 'USD', '0', '161065', '26', '4', '3.5', '8.2.2', '4+', 'Productivity', '37', '5', '23', '1']\n",
      "\n",
      "\n",
      "['3', '281940292', 'WeatherBug - Local Weather, Radar, Maps, Alerts', '100524032', 'USD', '0', '188583', '2822', '3.5', '4.5', '5.0.0', '4+', 'Weather', '37', '5', '3', '1']\n",
      "\n",
      "\n",
      "('Number of rows:', 6100)\n",
      "('Number of columns:', 17)\n"
     ]
    }
   ],
   "source": [
    "android_english = []\n",
    "ios_english = []\n",
    "\n",
    "for app in android_clean:\n",
    "    name = app[0]\n",
    "    if is_english(name):\n",
    "        android_english.append(app)\n",
    "        \n",
    "for app in ios:\n",
    "    name = app[2]\n",
    "    if is_english(name):\n",
    "        ios_english.append(app)\n",
    "        \n",
    "explore_data(android_english, 0, 3, True)\n",
    "print('\\n')\n",
    "explore_data(ios_english, 0, 3, True)"
   ]
  },
  {
   "cell_type": "code",
   "execution_count": 25,
   "metadata": {},
   "outputs": [
    {
     "name": "stdout",
     "output_type": "stream",
     "text": [
      "['App', 'Category', 'Rating', 'Reviews', 'Size', 'Installs', 'Type', 'Price', 'Content Rating', 'Genres', 'Last Updated', 'Current Ver', 'Android Ver']\n"
     ]
    }
   ],
   "source": [
    "print(android_header)    "
   ]
  },
  {
   "cell_type": "code",
   "execution_count": 26,
   "metadata": {},
   "outputs": [
    {
     "name": "stdout",
     "output_type": "stream",
     "text": [
      "['', 'id', 'track_name', 'size_bytes', 'currency', 'price', 'rating_count_tot', 'rating_count_ver', 'user_rating', 'user_rating_ver', 'ver', 'cont_rating', 'prime_genre', 'sup_devices.num', 'ipadSc_urls.num', 'lang.num', 'vpp_lic']\n"
     ]
    }
   ],
   "source": [
    "print(ios_header)"
   ]
  },
  {
   "cell_type": "code",
   "execution_count": 27,
   "metadata": {
    "scrolled": true
   },
   "outputs": [
    {
     "name": "stdout",
     "output_type": "stream",
     "text": [
      "8760\n",
      "3169\n"
     ]
    }
   ],
   "source": [
    "\n",
    "android_final = []\n",
    "ios_final = []\n",
    "\n",
    "for app in android_english:\n",
    "    price = app[7]\n",
    "    if price == '0':\n",
    "        android_final.append(app)\n",
    "        \n",
    "for app in ios_english:\n",
    "    price = app[5]\n",
    "    if price == '0':\n",
    "        ios_final.append(app)\n",
    "        \n",
    "print(len(android_final))\n",
    "print(len(ios_final))"
   ]
  },
  {
   "cell_type": "markdown",
   "metadata": {},
   "source": [
    "### Generating Frequency table "
   ]
  },
  {
   "cell_type": "code",
   "execution_count": 28,
   "metadata": {
    "collapsed": true
   },
   "outputs": [],
   "source": [
    "\n",
    "def freq_table(dataset, index):\n",
    "    table = {}\n",
    "    total = 0.0\n",
    "    \n",
    "    for row in dataset:\n",
    "        total += 1\n",
    "        value = row[index]\n",
    "        if value in table:\n",
    "            table[value] += 1\n",
    "        else:\n",
    "            table[value] = 1\n",
    "    \n",
    "    table_percentages = {}\n",
    "    for key in table:\n",
    "        percentage = float((table[key] / total)) * 100\n",
    "        table_percentages[key] = percentage \n",
    "    \n",
    "    return table_percentages\n",
    "\n",
    "\n",
    "def display_table(dataset, index):\n",
    "    table = freq_table(dataset, index)\n",
    "    table_display = []\n",
    "    for key in table:\n",
    "        key_val_as_tuple = (table[key], key)\n",
    "        table_display.append(key_val_as_tuple)\n",
    "        \n",
    "    table_sorted = sorted(table_display, reverse = True)\n",
    "    for entry in table_sorted:\n",
    "        print(entry[1], ':', entry[0])"
   ]
  },
  {
   "cell_type": "markdown",
   "metadata": {},
   "source": [
    "Let us see which Genre of apps is most preferred by users in iOS Store"
   ]
  },
  {
   "cell_type": "code",
   "execution_count": 29,
   "metadata": {},
   "outputs": [
    {
     "name": "stdout",
     "output_type": "stream",
     "text": [
      "('Games', ':', 58.53581571473651)\n",
      "('Entertainment', ':', 7.82581255916693)\n",
      "('Photo & Video', ':', 5.0489113284947935)\n",
      "('Education', ':', 3.72357210476491)\n",
      "('Social Networking', ':', 3.2817923635216157)\n",
      "('Shopping', ':', 2.5244556642473968)\n",
      "('Utilities', ':', 2.398232881035027)\n",
      "('Sports', ':', 2.1773430104133795)\n",
      "('Music', ':', 2.0511202272010096)\n",
      "('Health & Fitness', ':', 1.9880088355948247)\n",
      "('Productivity', ':', 1.7040075733669928)\n",
      "('Lifestyle', ':', 1.5462290943515304)\n",
      "('News', ':', 1.3253392237298833)\n",
      "('Travel', ':', 1.1360050489113285)\n",
      "('Finance', ':', 1.1044493531082362)\n",
      "('Weather', ':', 0.8520037866834964)\n",
      "('Food & Drink', ':', 0.8204480908804039)\n",
      "('Reference', ':', 0.5364468286525718)\n",
      "('Business', ':', 0.5364468286525718)\n",
      "('Book', ':', 0.3786683496371095)\n",
      "('Navigation', ':', 0.18933417481855475)\n",
      "('Medical', ':', 0.18933417481855475)\n",
      "('Catalogs', ':', 0.12622278321236985)\n"
     ]
    }
   ],
   "source": [
    "display_table(ios_final, 12)"
   ]
  },
  {
   "cell_type": "markdown",
   "metadata": {},
   "source": [
    "#### As we see, Games are the most popular genre accounting for about 58% of the apps "
   ]
  },
  {
   "cell_type": "code",
   "execution_count": 30,
   "metadata": {},
   "outputs": [
    {
     "name": "stdout",
     "output_type": "stream",
     "text": [
      "('Tools', ':', 8.470319634703197)\n",
      "('Entertainment', ':', 6.084474885844749)\n",
      "('Education', ':', 5.3881278538812785)\n",
      "('Business', ':', 4.646118721461187)\n",
      "('Productivity', ':', 3.9383561643835616)\n",
      "('Lifestyle', ':', 3.904109589041096)\n",
      "('Finance', ':', 3.721461187214612)\n",
      "('Medical', ':', 3.550228310502283)\n",
      "('Sports', ':', 3.4018264840182644)\n",
      "('Personalization', ':', 3.287671232876712)\n",
      "('Communication', ':', 3.2534246575342465)\n",
      "('Action', ':', 3.105022831050228)\n",
      "('Health & Fitness', ':', 3.093607305936073)\n",
      "('Photography', ':', 2.9794520547945202)\n",
      "('News & Magazines', ':', 2.808219178082192)\n",
      "('Social', ':', 2.6484018264840183)\n",
      "('Travel & Local', ':', 2.328767123287671)\n",
      "('Shopping', ':', 2.2488584474885847)\n",
      "('Books & Reference', ':', 2.146118721461187)\n",
      "('Simulation', ':', 2.054794520547945)\n",
      "('Dating', ':', 1.860730593607306)\n",
      "('Arcade', ':', 1.82648401826484)\n",
      "('Video Players & Editors', ':', 1.7808219178082192)\n",
      "('Casual', ':', 1.7351598173515983)\n",
      "('Maps & Navigation', ':', 1.3812785388127853)\n",
      "('Food & Drink', ':', 1.2328767123287672)\n",
      "('Puzzle', ':', 1.141552511415525)\n",
      "('Racing', ':', 1.004566210045662)\n",
      "('Role Playing', ':', 0.9474885844748858)\n",
      "('Strategy', ':', 0.9246575342465754)\n",
      "('Auto & Vehicles', ':', 0.9246575342465754)\n",
      "('Libraries & Demo', ':', 0.9018264840182649)\n",
      "('Weather', ':', 0.7876712328767124)\n",
      "('House & Home', ':', 0.7876712328767124)\n",
      "('Events', ':', 0.7191780821917808)\n",
      "('Adventure', ':', 0.6621004566210046)\n",
      "('Beauty', ':', 0.6050228310502284)\n",
      "('Art & Design', ':', 0.6050228310502284)\n",
      "('Comics', ':', 0.5707762557077625)\n",
      "('Parenting', ':', 0.4908675799086758)\n",
      "('Card', ':', 0.4452054794520548)\n",
      "('Casino', ':', 0.410958904109589)\n",
      "('Trivia', ':', 0.3995433789954338)\n",
      "('Educational;Education', ':', 0.3995433789954338)\n",
      "('Board', ':', 0.3881278538812785)\n",
      "('Educational', ':', 0.3767123287671233)\n",
      "('Education;Education', ':', 0.3424657534246575)\n",
      "('Word', ':', 0.2511415525114155)\n",
      "('Casual;Pretend Play', ':', 0.2397260273972603)\n",
      "('Music', ':', 0.19406392694063926)\n",
      "('Puzzle;Brain Games', ':', 0.17123287671232876)\n",
      "('Entertainment;Music & Video', ':', 0.17123287671232876)\n",
      "('Racing;Action & Adventure', ':', 0.14840182648401826)\n",
      "('Casual;Brain Games', ':', 0.136986301369863)\n",
      "('Casual;Action & Adventure', ':', 0.136986301369863)\n",
      "('Arcade;Action & Adventure', ':', 0.12557077625570776)\n",
      "('Action;Action & Adventure', ':', 0.10273972602739725)\n",
      "('Educational;Pretend Play', ':', 0.091324200913242)\n",
      "('Simulation;Action & Adventure', ':', 0.07990867579908677)\n",
      "('Parenting;Education', ':', 0.07990867579908677)\n",
      "('Entertainment;Brain Games', ':', 0.07990867579908677)\n",
      "('Casual;Creativity', ':', 0.0684931506849315)\n",
      "('Art & Design;Creativity', ':', 0.0684931506849315)\n",
      "('Parenting;Music & Video', ':', 0.05707762557077625)\n",
      "('Educational;Brain Games', ':', 0.05707762557077625)\n",
      "('Education;Pretend Play', ':', 0.05707762557077625)\n",
      "('Board;Brain Games', ':', 0.05707762557077625)\n",
      "('Role Playing;Pretend Play', ':', 0.045662100456621)\n",
      "('Education;Creativity', ':', 0.045662100456621)\n",
      "('Role Playing;Action & Adventure', ':', 0.03424657534246575)\n",
      "('Puzzle;Action & Adventure', ':', 0.03424657534246575)\n",
      "('Entertainment;Creativity', ':', 0.03424657534246575)\n",
      "('Entertainment;Action & Adventure', ':', 0.03424657534246575)\n",
      "('Educational;Creativity', ':', 0.03424657534246575)\n",
      "('Educational;Action & Adventure', ':', 0.03424657534246575)\n",
      "('Education;Music & Video', ':', 0.03424657534246575)\n",
      "('Education;Brain Games', ':', 0.03424657534246575)\n",
      "('Education;Action & Adventure', ':', 0.03424657534246575)\n",
      "('Adventure;Action & Adventure', ':', 0.03424657534246575)\n",
      "('Video Players & Editors;Music & Video', ':', 0.0228310502283105)\n",
      "('Sports;Action & Adventure', ':', 0.0228310502283105)\n",
      "('Simulation;Pretend Play', ':', 0.0228310502283105)\n",
      "('Puzzle;Creativity', ':', 0.0228310502283105)\n",
      "('Music;Music & Video', ':', 0.0228310502283105)\n",
      "('Entertainment;Pretend Play', ':', 0.0228310502283105)\n",
      "('Casual;Education', ':', 0.0228310502283105)\n",
      "('Board;Action & Adventure', ':', 0.0228310502283105)\n",
      "('Video Players & Editors;Creativity', ':', 0.01141552511415525)\n",
      "('Trivia;Education', ':', 0.01141552511415525)\n",
      "('Travel & Local;Action & Adventure', ':', 0.01141552511415525)\n",
      "('Tools;Education', ':', 0.01141552511415525)\n",
      "('Strategy;Education', ':', 0.01141552511415525)\n",
      "('Strategy;Creativity', ':', 0.01141552511415525)\n",
      "('Strategy;Action & Adventure', ':', 0.01141552511415525)\n",
      "('Simulation;Education', ':', 0.01141552511415525)\n",
      "('Role Playing;Brain Games', ':', 0.01141552511415525)\n",
      "('Racing;Pretend Play', ':', 0.01141552511415525)\n",
      "('Puzzle;Education', ':', 0.01141552511415525)\n",
      "('Parenting;Brain Games', ':', 0.01141552511415525)\n",
      "('Music & Audio;Music & Video', ':', 0.01141552511415525)\n",
      "('Lifestyle;Pretend Play', ':', 0.01141552511415525)\n",
      "('Lifestyle;Education', ':', 0.01141552511415525)\n",
      "('Health & Fitness;Education', ':', 0.01141552511415525)\n",
      "('Health & Fitness;Action & Adventure', ':', 0.01141552511415525)\n",
      "('Entertainment;Education', ':', 0.01141552511415525)\n",
      "('Communication;Creativity', ':', 0.01141552511415525)\n",
      "('Comics;Creativity', ':', 0.01141552511415525)\n",
      "('Card;Action & Adventure', ':', 0.01141552511415525)\n",
      "('Books & Reference;Education', ':', 0.01141552511415525)\n",
      "('Art & Design;Pretend Play', ':', 0.01141552511415525)\n",
      "('Art & Design;Action & Adventure', ':', 0.01141552511415525)\n",
      "('Arcade;Pretend Play', ':', 0.01141552511415525)\n",
      "('Adventure;Education', ':', 0.01141552511415525)\n"
     ]
    }
   ],
   "source": [
    "display_table(android_final, -4)"
   ]
  },
  {
   "cell_type": "markdown",
   "metadata": {},
   "source": [
    "#### As we see, Tools account for the top genre accounting for about 8.4% followed by Entertainment accounting for 6% of the total genres in Google Play store"
   ]
  },
  {
   "cell_type": "markdown",
   "metadata": {},
   "source": [
    "### ......................................................................................................................................................................................."
   ]
  },
  {
   "cell_type": "code",
   "execution_count": 31,
   "metadata": {},
   "outputs": [
    {
     "name": "stdout",
     "output_type": "stream",
     "text": [
      "('Productivity', ':', 0.0)\n",
      "('Photo & Video', ':', 0.0)\n",
      "('Entertainment', ':', 0.0)\n",
      "('Travel', ':', 0.0)\n",
      "('Sports', ':', 0.0)\n",
      "('Food & Drink', ':', 0.0)\n",
      "('Book', ':', 0.0)\n",
      "('Music', ':', 0.0)\n",
      "('Shopping', ':', 0.0)\n",
      "('Catalogs', ':', 0.0)\n",
      "('Finance', ':', 0.0)\n",
      "('Business', ':', 0.0)\n",
      "('Social Networking', ':', 0.0)\n",
      "('Utilities', ':', 0.0)\n",
      "('News', ':', 0.0)\n",
      "('Lifestyle', ':', 0.0)\n",
      "('Medical', ':', 0.0)\n",
      "('Games', ':', 0.0)\n",
      "('Health & Fitness', ':', 0.0)\n",
      "('Navigation', ':', 0.0)\n",
      "('Reference', ':', 0.0)\n",
      "('Weather', ':', 0.0)\n",
      "('Education', ':', 0.0)\n"
     ]
    }
   ],
   "source": [
    "genres_ios = freq_table(ios_final, -5)\n",
    "\n",
    "for genre in genres_ios:\n",
    "    total = 0.0\n",
    "    len_genre = 0.0\n",
    "    for app in ios_final:\n",
    "        genre_app = app[-5]\n",
    "        if genre_app == genre:            \n",
    "            n_ratings = float(app[5])\n",
    "            total += n_ratings\n",
    "            len_genre += 1\n",
    "    avg_n_ratings = float(total / len_genre)\n",
    "    print(genre, ':', avg_n_ratings)"
   ]
  },
  {
   "cell_type": "code",
   "execution_count": 27,
   "metadata": {},
   "outputs": [
    {
     "name": "stdout",
     "output_type": "stream",
     "text": [
      "('1,000,000+', ':', 15.74200913242009)\n",
      "('100,000+', ':', 11.518264840182649)\n",
      "('10,000,000+', ':', 10.60502283105023)\n",
      "('10,000+', ':', 10.205479452054794)\n",
      "('1,000+', ':', 8.367579908675799)\n",
      "('100+', ':', 6.952054794520548)\n",
      "('5,000,000+', ':', 6.872146118721462)\n",
      "('500,000+', ':', 5.5479452054794525)\n",
      "('50,000+', ':', 4.7716894977168955)\n",
      "('5,000+', ':', 4.486301369863014)\n",
      "('10+', ':', 3.515981735159817)\n",
      "('500+', ':', 3.2077625570776256)\n",
      "('50,000,000+', ':', 2.28310502283105)\n",
      "('100,000,000+', ':', 2.134703196347032)\n",
      "('50+', ':', 1.9292237442922375)\n",
      "('5+', ':', 0.7876712328767124)\n",
      "('1+', ':', 0.5136986301369862)\n",
      "('500,000,000+', ':', 0.273972602739726)\n",
      "('1,000,000,000+', ':', 0.228310502283105)\n",
      "('0+', ':', 0.045662100456621)\n",
      "('0', ':', 0.01141552511415525)\n"
     ]
    }
   ],
   "source": [
    "display_table(android_final, 5)"
   ]
  },
  {
   "cell_type": "code",
   "execution_count": 28,
   "metadata": {},
   "outputs": [
    {
     "name": "stdout",
     "output_type": "stream",
     "text": [
      "('LIBRARIES_AND_DEMO', ':', 649314.0506329114)\n",
      "('SHOPPING', ':', 7103190.78680203)\n",
      "('BUSINESS', ':', 1712290.1474201474)\n",
      "('ENTERTAINMENT', ':', 11767380.952380951)\n",
      "('MEDICAL', ':', 121161.87781350482)\n",
      "('MAPS_AND_NAVIGATION', ':', 4115374.214876033)\n",
      "('LIFESTYLE', ':', 1447458.976676385)\n",
      "('GAME', ':', 15571586.690307328)\n",
      "('BOOKS_AND_REFERENCE', ':', 8329168.936170213)\n",
      "('AUTO_AND_VEHICLES', ':', 654074.8271604938)\n",
      "('HOUSE_AND_HOME', ':', 1385541.463768116)\n",
      "('BEAUTY', ':', 513151.88679245283)\n",
      "('COMICS', ':', 859042.1568627451)\n",
      "('PHOTOGRAPHY', ':', 17840110.40229885)\n",
      "('PARENTING', ':', 552875.1785714285)\n",
      "('WEATHER', ':', 5212877.101449275)\n",
      "('ART_AND_DESIGN', ':', 1986335.0877192982)\n",
      "('PERSONALIZATION', ':', 5240358.986111111)\n",
      "('DATING', ':', 861409.5521472392)\n",
      "('EVENTS', ':', 253542.22222222222)\n",
      "('FAMILY', ':', 3716053.755274262)\n",
      "('HEALTH_AND_FITNESS', ':', 4219697.055350553)\n",
      "('VIDEO_PLAYERS', ':', 24878048.860759493)\n",
      "('FINANCE', ':', 1365500.4049079753)\n",
      "('PRODUCTIVITY', ':', 16787331.344927534)\n",
      "('COMMUNICATION', ':', 38550548.03859649)\n",
      "('TRAVEL_AND_LOCAL', ':', 14120454.07804878)\n",
      "('SPORTS', ':', 3750580.6438356163)\n",
      "('SOCIAL', ':', 23628689.23275862)\n",
      "('EDUCATION', ':', 1833495.145631068)\n",
      "('TOOLS', ':', 10902378.834454913)\n",
      "('NEWS_AND_MAGAZINES', ':', 9626407.357723577)\n",
      "('FOOD_AND_DRINK', ':', 1951283.8055555555)\n"
     ]
    }
   ],
   "source": [
    "categories_android = freq_table(android_final, 1)\n",
    "\n",
    "for category in categories_android:\n",
    "    total = 0\n",
    "    len_category = 0\n",
    "    for app in android_final:\n",
    "        category_app = app[1]\n",
    "        if category_app == category:            \n",
    "            n_installs = app[5]\n",
    "            n_installs = n_installs.replace(',', '')\n",
    "            n_installs = n_installs.replace('+', '')\n",
    "            total += float(n_installs)\n",
    "            len_category += 1\n",
    "    avg_n_installs = total / len_category\n",
    "    print(category, ':', avg_n_installs)"
   ]
  },
  {
   "cell_type": "code",
   "execution_count": 29,
   "metadata": {},
   "outputs": [
    {
     "name": "stdout",
     "output_type": "stream",
     "text": [
      "('WhatsApp Messenger', ':', '1,000,000,000+')\n",
      "('imo beta free calls and text', ':', '100,000,000+')\n",
      "('Android Messages', ':', '100,000,000+')\n",
      "('Google Duo - High Quality Video Calls', ':', '500,000,000+')\n",
      "('Messenger \\xe2\\x80\\x93 Text and Video Chat for Free', ':', '1,000,000,000+')\n",
      "('imo free video calls and chat', ':', '500,000,000+')\n",
      "('Skype - free IM & video calls', ':', '1,000,000,000+')\n",
      "('Who', ':', '100,000,000+')\n",
      "('GO SMS Pro - Messenger, Free Themes, Emoji', ':', '100,000,000+')\n",
      "('LINE: Free Calls & Messages', ':', '500,000,000+')\n",
      "('Google Chrome: Fast & Secure', ':', '1,000,000,000+')\n",
      "('Firefox Browser fast & private', ':', '100,000,000+')\n",
      "('UC Browser - Fast Download Private & Secure', ':', '500,000,000+')\n",
      "('Gmail', ':', '1,000,000,000+')\n",
      "('Hangouts', ':', '1,000,000,000+')\n",
      "('Messenger Lite: Free Calls & Messages', ':', '100,000,000+')\n",
      "('Kik', ':', '100,000,000+')\n",
      "('KakaoTalk: Free Calls & Text', ':', '100,000,000+')\n",
      "('Opera Mini - fast web browser', ':', '100,000,000+')\n",
      "('Opera Browser: Fast and Secure', ':', '100,000,000+')\n",
      "('Telegram', ':', '100,000,000+')\n",
      "('Truecaller: Caller ID, SMS spam blocking & Dialer', ':', '100,000,000+')\n",
      "('UC Browser Mini -Tiny Fast Private & Secure', ':', '100,000,000+')\n",
      "('Viber Messenger', ':', '500,000,000+')\n",
      "('WeChat', ':', '100,000,000+')\n",
      "('Yahoo Mail \\xe2\\x80\\x93 Stay Organized', ':', '100,000,000+')\n",
      "('BBM - Free Calls & Messages', ':', '100,000,000+')\n"
     ]
    }
   ],
   "source": [
    "for app in android_final:\n",
    "    if app[1] == 'COMMUNICATION' and (app[5] == '1,000,000,000+'\n",
    "                                      or app[5] == '500,000,000+'\n",
    "                                      or app[5] == '100,000,000+'):\n",
    "        print(app[0], ':', app[5])"
   ]
  },
  {
   "cell_type": "code",
   "execution_count": 30,
   "metadata": {},
   "outputs": [
    {
     "data": {
      "text/plain": [
       "3437620.895348837"
      ]
     },
     "execution_count": 30,
     "metadata": {},
     "output_type": "execute_result"
    }
   ],
   "source": [
    "under_100_m = []\n",
    "\n",
    "for app in android_final:\n",
    "    n_installs = app[5]\n",
    "    n_installs = n_installs.replace(',', '')\n",
    "    n_installs = n_installs.replace('+', '')\n",
    "    if (app[1] == 'COMMUNICATION') and (float(n_installs) < 100000000):\n",
    "        under_100_m.append(float(n_installs))\n",
    "        \n",
    "sum(under_100_m) / len(under_100_m)"
   ]
  },
  {
   "cell_type": "code",
   "execution_count": 31,
   "metadata": {},
   "outputs": [
    {
     "name": "stdout",
     "output_type": "stream",
     "text": [
      "('E-Book Read - Read Book for free', ':', '50,000+')\n",
      "('Download free book with green book', ':', '100,000+')\n",
      "('Wikipedia', ':', '10,000,000+')\n",
      "('Cool Reader', ':', '10,000,000+')\n",
      "('Free Panda Radio Music', ':', '100,000+')\n",
      "('Book store', ':', '1,000,000+')\n",
      "('FBReader: Favorite Book Reader', ':', '10,000,000+')\n",
      "('English Grammar Complete Handbook', ':', '500,000+')\n",
      "('Free Books - Spirit Fanfiction and Stories', ':', '1,000,000+')\n",
      "('Google Play Books', ':', '1,000,000,000+')\n",
      "('AlReader -any text book reader', ':', '5,000,000+')\n",
      "('Offline English Dictionary', ':', '100,000+')\n",
      "('Offline: English to Tagalog Dictionary', ':', '500,000+')\n",
      "('FamilySearch Tree', ':', '1,000,000+')\n",
      "('Cloud of Books', ':', '1,000,000+')\n",
      "('Recipes of Prophetic Medicine for free', ':', '500,000+')\n",
      "('ReadEra \\xe2\\x80\\x93 free ebook reader', ':', '1,000,000+')\n",
      "('Anonymous caller detection', ':', '10,000+')\n",
      "('Ebook Reader', ':', '5,000,000+')\n",
      "('Litnet - E-books', ':', '100,000+')\n",
      "('Read books online', ':', '5,000,000+')\n",
      "('English to Urdu Dictionary', ':', '500,000+')\n",
      "('eBoox: book reader fb2 epub zip', ':', '1,000,000+')\n",
      "('English Persian Dictionary', ':', '500,000+')\n",
      "('Flybook', ':', '500,000+')\n",
      "('All Maths Formulas', ':', '1,000,000+')\n",
      "('Ancestry', ':', '5,000,000+')\n",
      "('HTC Help', ':', '10,000,000+')\n",
      "('English translation from Bengali', ':', '100,000+')\n",
      "('Pdf Book Download - Read Pdf Book', ':', '100,000+')\n",
      "('Free Book Reader', ':', '100,000+')\n",
      "('eBoox new: Reader for fb2 epub zip books', ':', '50,000+')\n",
      "('Only 30 days in English, the guideline is guaranteed', ':', '500,000+')\n",
      "('Moon+ Reader', ':', '10,000,000+')\n",
      "(\"SH-02J Owner's Manual (Android 8.0)\", ':', '50,000+')\n",
      "('English-Myanmar Dictionary', ':', '1,000,000+')\n",
      "('Golden Dictionary (EN-AR)', ':', '1,000,000+')\n",
      "('All Language Translator Free', ':', '1,000,000+')\n",
      "('Azpen eReader', ':', '500,000+')\n",
      "('URBANO V 02 instruction manual', ':', '100,000+')\n",
      "('Bible', ':', '100,000,000+')\n",
      "('C Programs and Reference', ':', '50,000+')\n",
      "('C Offline Tutorial', ':', '1,000+')\n",
      "('C Programs Handbook', ':', '50,000+')\n",
      "('Amazon Kindle', ':', '100,000,000+')\n",
      "('Aab e Hayat Full Novel', ':', '100,000+')\n",
      "('Aldiko Book Reader', ':', '10,000,000+')\n",
      "('Google I/O 2018', ':', '500,000+')\n",
      "('R Language Reference Guide', ':', '10,000+')\n",
      "('Learn R Programming Full', ':', '5,000+')\n",
      "('R Programing Offline Tutorial', ':', '1,000+')\n",
      "('Guide for R Programming', ':', '5+')\n",
      "('Learn R Programming', ':', '10+')\n",
      "('R Quick Reference Big Data', ':', '1,000+')\n",
      "('V Made', ':', '100,000+')\n",
      "('Dictionary - WordWeb', ':', '5,000,000+')\n",
      "('Guide (for X-MEN)', ':', '100,000+')\n",
      "('AC Air condition Troubleshoot,Repair,Maintenance', ':', '5,000+')\n",
      "('AE Bulletins', ':', '1,000+')\n",
      "('Ae Allah na Dai (Rasa)', ':', '10,000+')\n",
      "('50000 Free eBooks & Free AudioBooks', ':', '5,000,000+')\n",
      "('Ag PhD Field Guide', ':', '10,000+')\n",
      "('Ag PhD Deficiencies', ':', '10,000+')\n",
      "('Ag PhD Planting Population Calculator', ':', '1,000+')\n",
      "('Ag PhD Soybean Diseases', ':', '1,000+')\n",
      "('Fertilizer Removal By Crop', ':', '50,000+')\n",
      "('A-J Media Vault', ':', '50+')\n",
      "('Al-Quran (Free)', ':', '10,000,000+')\n",
      "('Al Quran (Tafsir & by Word)', ':', '500,000+')\n",
      "('Al Quran Indonesia', ':', '10,000,000+')\n",
      "(\"Al'Quran Bahasa Indonesia\", ':', '10,000,000+')\n",
      "('Al Quran Al karim', ':', '1,000,000+')\n",
      "('Al-Muhaffiz', ':', '50,000+')\n",
      "('Al Quran : EAlim - Translations & MP3 Offline', ':', '5,000,000+')\n",
      "('Al-Quran 30 Juz free copies', ':', '500,000+')\n",
      "('Koran Read &MP3 30 Juz Offline', ':', '1,000,000+')\n",
      "('Hafizi Quran 15 lines per page', ':', '1,000,000+')\n",
      "('Quran for Android', ':', '10,000,000+')\n",
      "('Surah Al-Waqiah', ':', '100,000+')\n",
      "('Hisnul Al Muslim - Hisn Invocations & Adhkaar', ':', '100,000+')\n",
      "('Satellite AR', ':', '1,000,000+')\n",
      "('Audiobooks from Audible', ':', '100,000,000+')\n",
      "(\"Kinot & Eichah for Tisha B'Av\", ':', '10,000+')\n",
      "('AW Tozer Devotionals - Daily', ':', '5,000+')\n",
      "('Tozer Devotional -Series 1', ':', '1,000+')\n",
      "('The Pursuit of God', ':', '1,000+')\n",
      "('AY Sing', ':', '5,000+')\n",
      "('Ay Hasnain k Nana Milad Naat', ':', '10,000+')\n",
      "('Ay Mohabbat Teri Khatir Novel', ':', '10,000+')\n",
      "('Arizona Statutes, ARS (AZ Law)', ':', '1,000+')\n",
      "('Oxford A-Z of English Usage', ':', '1,000,000+')\n",
      "('BD Fishpedia', ':', '1,000+')\n",
      "('BD All Sim Offer', ':', '10,000+')\n",
      "('Youboox - Livres, BD et magazines', ':', '500,000+')\n",
      "('B&H Kids AR', ':', '10,000+')\n",
      "('B y H Ni\\xc3\\xb1os ES', ':', '5,000+')\n",
      "('Dictionary.com: Find Definitions for English Words', ':', '10,000,000+')\n",
      "('English Dictionary - Offline', ':', '10,000,000+')\n",
      "('Bible KJV', ':', '5,000,000+')\n",
      "('Borneo Bible, BM Bible', ':', '10,000+')\n",
      "('MOD Black for BM', ':', '100+')\n",
      "('BM Box', ':', '1,000+')\n",
      "('Anime Mod for BM', ':', '100+')\n",
      "('NOOK: Read eBooks & Magazines', ':', '10,000,000+')\n",
      "('NOOK Audiobooks', ':', '500,000+')\n",
      "('NOOK App for NOOK Devices', ':', '500,000+')\n",
      "('Browsery by Barnes & Noble', ':', '5,000+')\n",
      "('bp e-store', ':', '1,000+')\n",
      "('Brilliant Quotes: Life, Love, Family & Motivation', ':', '1,000,000+')\n",
      "('BR Ambedkar Biography & Quotes', ':', '10,000+')\n",
      "('BU Alsace', ':', '100+')\n",
      "('Catholic La Bu Zo Kam', ':', '500+')\n",
      "('Khrifa Hla Bu (Solfa)', ':', '10+')\n",
      "('Kristian Hla Bu', ':', '10,000+')\n",
      "('SA HLA BU', ':', '1,000+')\n",
      "('Learn SAP BW', ':', '500+')\n",
      "('Learn SAP BW on HANA', ':', '500+')\n",
      "('CA Laws 2018 (California Laws and Codes)', ':', '5,000+')\n",
      "('Bootable Methods(USB-CD-DVD)', ':', '10,000+')\n",
      "('cloudLibrary', ':', '100,000+')\n",
      "('SDA Collegiate Quarterly', ':', '500+')\n",
      "('Sabbath School', ':', '100,000+')\n",
      "('Cypress College Library', ':', '100+')\n",
      "('Stats Royale for Clash Royale', ':', '1,000,000+')\n",
      "('GATE 21 years CS Papers(2011-2018 Solved)', ':', '50+')\n",
      "('Learn CT Scan Of Head', ':', '5,000+')\n",
      "('Easy Cv maker 2018', ':', '10,000+')\n",
      "('How to Write CV', ':', '100,000+')\n",
      "('CW Nuclear', ':', '1,000+')\n",
      "('CY Spray nozzle', ':', '10+')\n",
      "('BibleRead En Cy Zh Yue', ':', '5+')\n",
      "('CZ-Help', ':', '5+')\n",
      "('Guide for DB Xenoverse', ':', '10,000+')\n",
      "('Guide for DB Xenoverse 2', ':', '10,000+')\n",
      "('Guide for IMS DB', ':', '10+')\n",
      "('DC HSEMA', ':', '5,000+')\n",
      "('DC Public Library', ':', '1,000+')\n",
      "('Painting Lulu DC Super Friends', ':', '1,000+')\n",
      "('Dictionary', ':', '10,000,000+')\n",
      "('Fix Error Google Playstore', ':', '1,000+')\n",
      "('D. H. Lawrence Poems FREE', ':', '1,000+')\n",
      "('Bilingual Dictionary Audio App', ':', '5,000+')\n",
      "('DM Screen', ':', '10,000+')\n",
      "('wikiHow: how to do anything', ':', '1,000,000+')\n",
      "(\"Dr. Doug's Tips\", ':', '1,000+')\n",
      "('Bible du Semeur-BDS (French)', ':', '50,000+')\n",
      "('La citadelle du musulman', ':', '50,000+')\n",
      "('DV 2019 Entry Guide', ':', '10,000+')\n",
      "('DV 2019 - EDV Photo & Form', ':', '50,000+')\n",
      "('DV 2018 Winners Guide', ':', '1,000+')\n",
      "('EB Annual Meetings', ':', '1,000+')\n",
      "('EC - AP & Telangana', ':', '5,000+')\n",
      "('TN Patta Citta & EC', ':', '10,000+')\n",
      "('AP Stamps and Registration', ':', '10,000+')\n",
      "('CompactiMa EC pH Calibration', ':', '100+')\n",
      "('EGW Writings 2', ':', '100,000+')\n",
      "('EGW Writings', ':', '1,000,000+')\n",
      "('Bible with EGW Comments', ':', '100,000+')\n",
      "('My Little Pony AR Guide', ':', '1,000,000+')\n",
      "('SDA Sabbath School Quarterly', ':', '500,000+')\n",
      "('Duaa Ek Ibaadat', ':', '5,000+')\n",
      "('Spanish English Translator', ':', '10,000,000+')\n",
      "('Dictionary - Merriam-Webster', ':', '10,000,000+')\n",
      "('JW Library', ':', '10,000,000+')\n",
      "('Oxford Dictionary of English : Free', ':', '10,000,000+')\n",
      "('English Hindi Dictionary', ':', '10,000,000+')\n",
      "('English to Hindi Dictionary', ':', '5,000,000+')\n",
      "('EP Research Service', ':', '1,000+')\n",
      "('Hymnes et Louanges', ':', '100,000+')\n",
      "('EU Charter', ':', '1,000+')\n",
      "('EU Data Protection', ':', '1,000+')\n",
      "('EU IP Codes', ':', '100+')\n",
      "('EW PDF', ':', '5+')\n",
      "('BakaReader EX', ':', '100,000+')\n",
      "('EZ Quran', ':', '50,000+')\n",
      "('FA Part 1 & 2 Past Papers Solved Free \\xe2\\x80\\x93 Offline', ':', '5,000+')\n",
      "('La Fe de Jesus', ':', '1,000+')\n",
      "('La Fe de Jes\\xc3\\xbas', ':', '500+')\n",
      "('Le Fe de Jesus', ':', '500+')\n",
      "('Florida - Pocket Brainbook', ':', '1,000+')\n",
      "('Florida Statutes (FL Code)', ':', '1,000+')\n",
      "('English To Shona Dictionary', ':', '10,000+')\n",
      "('Greek Bible FP (Audio)', ':', '1,000+')\n",
      "('Golden Dictionary (FR-AR)', ':', '500,000+')\n",
      "('Fanfic-FR', ':', '5,000+')\n",
      "('Bulgarian French Dictionary Fr', ':', '10,000+')\n",
      "('Chemin (fr)', ':', '1,000+')\n",
      "('The SCP Foundation DB fr nn5n', ':', '1,000+')\n"
     ]
    }
   ],
   "source": [
    "\n",
    "for app in android_final:\n",
    "    if app[1] == 'BOOKS_AND_REFERENCE':\n",
    "        print(app[0], ':', app[5])"
   ]
  },
  {
   "cell_type": "markdown",
   "metadata": {},
   "source": [
    "### Conclusions\n",
    "In this project, we analyzed data about the App Store and Google Play mobile apps with the goal of recommending an app profile that can be profitable for both markets.\n",
    "\n",
    "We concluded that taking a popular book (perhaps a more recent book) and turning it into an app could be profitable for both the Google Play and the App Store markets. The markets are already full of libraries, so we need to add some special features besides the raw version of the book. This might include daily quotes from the book, an audio version of the book, quizzes on the book, a forum where people can discuss the book, etc."
   ]
  }
 ],
 "metadata": {
  "kernelspec": {
   "display_name": "Python 2",
   "language": "python",
   "name": "python2"
  },
  "language_info": {
   "codemirror_mode": {
    "name": "ipython",
    "version": 2
   },
   "file_extension": ".py",
   "mimetype": "text/x-python",
   "name": "python",
   "nbconvert_exporter": "python",
   "pygments_lexer": "ipython2",
   "version": "2.7.13"
  }
 },
 "nbformat": 4,
 "nbformat_minor": 2
}
